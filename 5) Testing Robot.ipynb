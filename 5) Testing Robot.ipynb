{
 "cells": [
  {
   "cell_type": "markdown",
   "metadata": {},
   "source": [
    "#### Q) Testing Robot\n",
    "\n",
    "Link used -> https://www.codechef.com/problems/TSTROBOT\n",
    "\n",
    "Chef has bought a new robot, which will be used for delivering dishes to his customers.\n",
    "He started testing the robot by letting it move on a line.\n",
    "\n",
    "Initially, the robot is placed at the coordinate x=X. Then, it should execute a sequence of N commands, \n",
    "described by a string S with length N. Each character of this string is either 'L' or 'R', \n",
    "denoting that the robot should walk one step to the left (decreasing x by 1) or to the \n",
    "right (increasing x by 1), respectively.\n",
    "\n",
    "How many distinct points are visited by the robot when it has executed all the commands? \n",
    "A point p is visited by the robot if p is an integer and the robot's position before or \n",
    "after executing some command is x=p.\n",
    "\n",
    "Input<br>\n",
    "1) The first line of the input contains a single integer T denoting the number of test cases. The description of T\n",
    "test cases follows.<br>\n",
    "2) The first line of each test case contains two space-separated integers N\n",
    "and X.<br>\n",
    "3)The second line contains a single string S with length N.<br>\n",
    "\n",
    "Output<br>\n",
    "For each test case, print a single line containing one integer ― the number of points visited by the robot.\n",
    "\n",
    "Example Input<br>\n",
    "2<br>\n",
    "6 10<br>\n",
    "RRLLLL<br>\n",
    "2 0<br>\n",
    "LL\n",
    "\n",
    "Example Output<br>\n",
    "5<br>\n",
    "3\n"
   ]
  },
  {
   "cell_type": "code",
   "execution_count": 7,
   "metadata": {},
   "outputs": [
    {
     "name": "stdout",
     "output_type": "stream",
     "text": [
      "2\n",
      "6 10\n",
      "RRLLLL\n",
      "5\n",
      "2 0\n",
      "LL\n",
      "2\n"
     ]
    }
   ],
   "source": [
    "t = int(input())\n",
    "path=[]\n",
    "for _ in range(t):\n",
    "    n,x = map(int,input().split())\n",
    "    s = input()\n",
    "    for i in list(s):\n",
    "        if(i=='R'):\n",
    "            x+=1\n",
    "            path.append(x)\n",
    "        elif(i=='L'):\n",
    "            x-=1\n",
    "            path.append(x)\n",
    "#     print(path)\n",
    "    res = set(path)\n",
    "    print(len(res))\n",
    "    path.clear()"
   ]
  },
  {
   "cell_type": "code",
   "execution_count": null,
   "metadata": {},
   "outputs": [],
   "source": []
  }
 ],
 "metadata": {
  "kernelspec": {
   "display_name": "Python 3",
   "language": "python",
   "name": "python3"
  },
  "language_info": {
   "codemirror_mode": {
    "name": "ipython",
    "version": 3
   },
   "file_extension": ".py",
   "mimetype": "text/x-python",
   "name": "python",
   "nbconvert_exporter": "python",
   "pygments_lexer": "ipython3",
   "version": "3.7.3"
  }
 },
 "nbformat": 4,
 "nbformat_minor": 2
}

{
 "cells": [
  {
   "cell_type": "markdown",
   "metadata": {},
   "source": [
    "#### Q) Small Factorials\n",
    "\n",
    "Link used -> https://www.codechef.com/problems/FCTRL2\n",
    "\n",
    "You are asked to calculate factorials of some small positive integers. \n",
    "<br>\n",
    "Input<br>\n",
    "An integer t, denoting the number of testcases, followed by t lines, each \n",
    "containing a single integer n.\n",
    "\n",
    "Output<br>\n",
    "For each integer n given as input, display a line with the value of n!\n",
    "\n",
    "Sample input:<br>\n",
    "4<br>\n",
    "1<br>\n",
    "2<br>\n",
    "5<br>\n",
    "3\n",
    "\n",
    "Sample output:<br>\n",
    "1<br>\n",
    "2<br>\n",
    "120<br>\n",
    "6\n"
   ]
  },
  {
   "cell_type": "code",
   "execution_count": 16,
   "metadata": {},
   "outputs": [
    {
     "name": "stdout",
     "output_type": "stream",
     "text": [
      "4\n",
      "1\n",
      "2\n",
      "5\n",
      "3\n",
      "1\n",
      "2\n",
      "120\n",
      "6\n"
     ]
    }
   ],
   "source": [
    "t = int(input())\n",
    "res = []\n",
    "for _ in range(t):\n",
    "    n = int(input())\n",
    "    fact = 1\n",
    "    for i in range(1,n+1):\n",
    "        fact = fact*i  # fact=1*1=1,1*2=2,2*3=6,6*4=24,24*5=120 \n",
    "    res.append(fact)\n",
    "for i in res:\n",
    "    print(i)"
   ]
  },
  {
   "cell_type": "code",
   "execution_count": null,
   "metadata": {},
   "outputs": [],
   "source": []
  }
 ],
 "metadata": {
  "kernelspec": {
   "display_name": "Python 3",
   "language": "python",
   "name": "python3"
  },
  "language_info": {
   "codemirror_mode": {
    "name": "ipython",
    "version": 3
   },
   "file_extension": ".py",
   "mimetype": "text/x-python",
   "name": "python",
   "nbconvert_exporter": "python",
   "pygments_lexer": "ipython3",
   "version": "3.7.3"
  }
 },
 "nbformat": 4,
 "nbformat_minor": 2
}

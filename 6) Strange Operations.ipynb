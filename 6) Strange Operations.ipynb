{
 "cells": [
  {
   "cell_type": "markdown",
   "metadata": {},
   "source": [
    "#### Q) Strange Operations\n",
    "Link used -> https://www.codechef.com/problems/UTMOPR\n",
    "\n",
    "Given an array consisting of N integers, you have to do the following\n",
    "operation K times.\n",
    "\n",
    "1) Find out the sum of all the elements in the array. Denote it by S. \n",
    "Insert an integer in the array strictly greater than S. Hence, size \n",
    "of the array will increase by one.\n",
    "\n",
    "Thus, at the end of the K operations, the array will have N + K \n",
    "elements. Find out the smallest possible value of the last number \n",
    "inserted in the array. Since this number can be very large, you\n",
    "just have to tell whether it will be odd or even.     \n",
    "\n",
    "Input<br>\n",
    "1) The first line of each test file contains the number of test cases, T.<br>\n",
    "2) The description of the test cases follows this line. Each test case description consists of 2 lines.<br>\n",
    "3) The first line has the values of N and K, separated by a space.<br>\n",
    "4) The next line contains a single-space separated list of values of the elements in the array.\n",
    "\n",
    "Output<br>\n",
    "For each test case, output a single line containing the answer to the \n",
    "problem.If the number is even print \"even\" and if the number is odd \n",
    "print \"odd\".\n",
    "\n",
    "Sample Input<br>\n",
    "1<br>\n",
    "2 3<br>\n",
    "5 7<br>\n",
    "\n",
    "Sample Output:<br>\n",
    "even\n"
   ]
  },
  {
   "cell_type": "code",
   "execution_count": 4,
   "metadata": {},
   "outputs": [
    {
     "name": "stdout",
     "output_type": "stream",
     "text": [
      "1\n",
      "3 1\n",
      "3 4 5\n",
      "odd\n"
     ]
    }
   ],
   "source": [
    "t = int(input())\n",
    "for _ in range(t):\n",
    "    n,k = map(int,input().split())\n",
    "    arr = list(map(int,input().split()))\n",
    "    c=1\n",
    "    add =0\n",
    "    while(c<=k):\n",
    "        add = sum(list(arr))\n",
    "        arr.append(add+1)\n",
    "#         print(c,arr)\n",
    "        c+=1\n",
    "    if(arr[-1]%2==0):\n",
    "        print('even')\n",
    "    else:\n",
    "        print('odd')"
   ]
  },
  {
   "cell_type": "code",
   "execution_count": null,
   "metadata": {},
   "outputs": [],
   "source": []
  }
 ],
 "metadata": {
  "kernelspec": {
   "display_name": "Python 3",
   "language": "python",
   "name": "python3"
  },
  "language_info": {
   "codemirror_mode": {
    "name": "ipython",
    "version": 3
   },
   "file_extension": ".py",
   "mimetype": "text/x-python",
   "name": "python",
   "nbconvert_exporter": "python",
   "pygments_lexer": "ipython3",
   "version": "3.7.3"
  }
 },
 "nbformat": 4,
 "nbformat_minor": 2
}

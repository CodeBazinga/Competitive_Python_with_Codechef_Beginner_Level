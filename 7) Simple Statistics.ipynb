{
 "cells": [
  {
   "cell_type": "markdown",
   "metadata": {},
   "source": [
    "#### Q) Simple Statistics\n",
    "\n",
    "Link Used -> https://www.codechef.com/problems/SIMPSTAT\n",
    "\n",
    "Sergey has made N measurements. Now, he wants to know the average value of the measurements made.\n",
    "In order to make the average value a better representative of the measurements, before calculating the average, he wants first to remove the highest K and the lowest K measurements. After that, he will calculate the average value among the remaining N - 2K measurements.\n",
    "Could you help Sergey to find the average value he will get after these manipulations?\n",
    "\n",
    "Input<br>\n",
    "The first line of the input contains an integer T denoting the number of test cases. The description of T test cases follows.<br>\n",
    "The first line of each test case contains two space-separated integers N and K denoting the number of measurements and the number of the greatest and the lowest values that will be removed.<br>\n",
    "The second line contains N space-separated integers A1, A2, ..., AN denoting the measurements. \n",
    "\n",
    "Output<br>\n",
    "For each test case, output a single line containing the average value after removing K lowest and K greatest measurements.<br>\n",
    "Your answer will be considered correct, in case it has absolute or relative error, not exceeding 10^-6.\n",
    "\n",
    "Input:<br>\n",
    "3<br>\n",
    "5 1<br>\n",
    "2 9 -10 25 1<br>\n",
    "5 0<br>\n",
    "2 9 -10 25 1<br>\n",
    "3 1<br>\n",
    "1 1 1<br>\n",
    "\n",
    "Output:<br>\n",
    "4.000000<br>\n",
    "5.400000<br>\n",
    "1.000000"
   ]
  },
  {
   "cell_type": "code",
   "execution_count": null,
   "metadata": {},
   "outputs": [],
   "source": [
    "# a =[2,9,-10,25,1]\n",
    "# highest value = 25, smallest value = -10\n",
    "# remove highest and lowest, a =[2,9,1]\n",
    "# avg = sum(2,9,1)/3 = 2+9+1/3 = 12/3 = 4\n",
    "# sum = 2 +9+(-10) + 25 +1 = 11-10+26 = 27\n",
    "# avg = 27/5 = 5.4"
   ]
  },
  {
   "cell_type": "code",
   "execution_count": 17,
   "metadata": {},
   "outputs": [
    {
     "name": "stdout",
     "output_type": "stream",
     "text": [
      "3\n",
      "5 1\n",
      "2 9 -10 25 1\n",
      "4.000000\n",
      "5 0\n",
      "2 9 -10 25 1\n",
      "5.400000\n",
      "3 1\n",
      "1 1 1\n",
      "1.000000\n"
     ]
    }
   ],
   "source": [
    "t = int(input())\n",
    "for _ in range(t):\n",
    "    n,k = map(int,input().split())\n",
    "    a = list(map(int,input().split()))\n",
    "    a.sort()\n",
    "#     print(a)\n",
    "    remaining = a[k:n-k]\n",
    "#     print(remaining)\n",
    "    add = sum(remaining)\n",
    "#     print(add)\n",
    "    avg = add /(n-2*k)\n",
    "    print('%.6f'%avg)"
   ]
  },
  {
   "cell_type": "code",
   "execution_count": null,
   "metadata": {},
   "outputs": [],
   "source": []
  }
 ],
 "metadata": {
  "kernelspec": {
   "display_name": "Python 3",
   "language": "python",
   "name": "python3"
  },
  "language_info": {
   "codemirror_mode": {
    "name": "ipython",
    "version": 3
   },
   "file_extension": ".py",
   "mimetype": "text/x-python",
   "name": "python",
   "nbconvert_exporter": "python",
   "pygments_lexer": "ipython3",
   "version": "3.7.3"
  }
 },
 "nbformat": 4,
 "nbformat_minor": 2
}

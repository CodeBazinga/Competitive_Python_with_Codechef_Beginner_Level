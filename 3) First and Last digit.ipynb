{
 "cells": [
  {
   "cell_type": "markdown",
   "metadata": {},
   "source": [
    "#### Q) First and Last Digit \n",
    "\n",
    "Link used -> https://www.codechef.com/problems/FLOW004\n",
    "\n",
    "Given an integer N . Write a program to obtain the sum of the first and last digit of this number.\n",
    "\n",
    "Input<br>\n",
    "The first line contains an integer T, total number of test cases. Then follow T lines, each line contains an integer N.\n",
    "\n",
    "Output<br>\n",
    "Display the sum of first and last digit of N.\n",
    "\n",
    "Input<br>\n",
    "3 <br>\n",
    "1234<br>\n",
    "124894<br>\n",
    "242323\n",
    "\n",
    "Output<br>\n",
    "5<br>\n",
    "5<br>\n",
    "5\n"
   ]
  },
  {
   "cell_type": "code",
   "execution_count": 9,
   "metadata": {},
   "outputs": [
    {
     "name": "stdout",
     "output_type": "stream",
     "text": [
      "3\n",
      "1234\n",
      "5\n",
      "124894\n",
      "5\n",
      "242323\n",
      "5\n"
     ]
    }
   ],
   "source": [
    "t = int(input())\n",
    "dig = []\n",
    "for _ in range(t):\n",
    "    n = int(input())\n",
    "    temp = n     # temp =1234\n",
    "    while(temp>0):\n",
    "        rem = temp%10  # rem=4,3,2,1  \n",
    "        dig.append(rem) # dig=[4],[4,3],[4,3,2],[4,3,2,1]\n",
    "        temp = temp//10 # temp=123,12,1,0\n",
    "    print(dig[0]+dig[-1])\n",
    "    dig.clear()"
   ]
  },
  {
   "cell_type": "code",
   "execution_count": null,
   "metadata": {},
   "outputs": [],
   "source": [
    " "
   ]
  }
 ],
 "metadata": {
  "kernelspec": {
   "display_name": "Python 3",
   "language": "python",
   "name": "python3"
  },
  "language_info": {
   "codemirror_mode": {
    "name": "ipython",
    "version": 3
   },
   "file_extension": ".py",
   "mimetype": "text/x-python",
   "name": "python",
   "nbconvert_exporter": "python",
   "pygments_lexer": "ipython3",
   "version": "3.7.3"
  }
 },
 "nbformat": 4,
 "nbformat_minor": 2
}

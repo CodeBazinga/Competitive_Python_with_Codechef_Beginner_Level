{
 "cells": [
  {
   "cell_type": "markdown",
   "metadata": {},
   "source": [
    "#### Q) Sum of Digits\n",
    "\n",
    "Link to the Question -> https://www.codechef.com/problems/FLOW006\n",
    "\n",
    "\n",
    "You are given an integer N. Write a program to calculate the sum of all the digits of N.\n",
    "\n",
    "Input<br>\n",
    "The first line contains an integer T, total number of testcases. Then follow T lines,\n",
    "each line contains an integer N.\n",
    "\n",
    "Output<br>\n",
    "Calculate the sum of digits of N.\n",
    "\n",
    "\n",
    "Input<br>\n",
    "3 <br>\n",
    "12345<br>\n",
    "31203<br>\n",
    "2123\n",
    "\n",
    "Output<br>\n",
    "15<br>\n",
    "9<br>\n",
    "8\n"
   ]
  },
  {
   "cell_type": "code",
   "execution_count": 25,
   "metadata": {},
   "outputs": [
    {
     "name": "stdout",
     "output_type": "stream",
     "text": [
      "3\n",
      "12345\n",
      "15\n",
      "31203\n",
      "9\n",
      "2123\n",
      "8\n"
     ]
    }
   ],
   "source": [
    "tc = int(input())\n",
    "for _ in range(tc):\n",
    "    n = int(input())\n",
    "    add = 0\n",
    "    temp = n\n",
    "    while(temp>0):\n",
    "        rem = temp%10   # rem = 3, 2, 1, 2\n",
    "        add +=rem       # add = 3, 3+2=5, 5+1=6, 6+2=8\n",
    "        temp = temp//10 # temp = 212, 21,2,0\n",
    "    print(add)"
   ]
  },
  {
   "cell_type": "code",
   "execution_count": null,
   "metadata": {},
   "outputs": [],
   "source": []
  },
  {
   "cell_type": "code",
   "execution_count": null,
   "metadata": {},
   "outputs": [],
   "source": []
  },
  {
   "cell_type": "code",
   "execution_count": null,
   "metadata": {},
   "outputs": [],
   "source": []
  },
  {
   "cell_type": "code",
   "execution_count": null,
   "metadata": {},
   "outputs": [],
   "source": []
  },
  {
   "cell_type": "code",
   "execution_count": null,
   "metadata": {},
   "outputs": [],
   "source": []
  },
  {
   "cell_type": "code",
   "execution_count": null,
   "metadata": {},
   "outputs": [],
   "source": []
  },
  {
   "cell_type": "code",
   "execution_count": null,
   "metadata": {},
   "outputs": [],
   "source": []
  }
 ],
 "metadata": {
  "kernelspec": {
   "display_name": "Python 3",
   "language": "python",
   "name": "python3"
  },
  "language_info": {
   "codemirror_mode": {
    "name": "ipython",
    "version": 3
   },
   "file_extension": ".py",
   "mimetype": "text/x-python",
   "name": "python",
   "nbconvert_exporter": "python",
   "pygments_lexer": "ipython3",
   "version": "3.7.3"
  }
 },
 "nbformat": 4,
 "nbformat_minor": 2
}

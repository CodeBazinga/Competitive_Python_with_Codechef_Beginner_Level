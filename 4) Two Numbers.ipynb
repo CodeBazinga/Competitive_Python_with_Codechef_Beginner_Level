{
 "cells": [
  {
   "cell_type": "markdown",
   "metadata": {},
   "source": [
    "#### Q) Two Numbers\n",
    "\n",
    "Link used -> https://www.codechef.com/problems/TWONMS\n",
    "\n",
    "Alice and Bob are playing a game. Alice initially has the number A and Bob has the number B. There are a total of N turns in the game, and Alice and Bob alternatively take turns. In each turn the player whose turn it is, multiplies his or her number by 2. Alice has the first turn.\n",
    "\n",
    "Suppose after all the N turns, Alice's number has become C and Bob's number has become D. You want to calculate the integer division of the maximum number among C and D by the minimum number among C and D.\n",
    "\n",
    "Input<br>\n",
    "1) The first line of the input contains an integer T denoting the number of test cases. The description of each testcase follows.<br>\n",
    "2) Each test case contains a single line with 3 integers A, B, and N.\n",
    "\n",
    "Output<br>\n",
    "For each test case output a new line with a single integer which should be the answer.\n",
    "\n",
    "Input:<br>\n",
    "3<br>\n",
    "1 2 1<br>\n",
    "3 2 3<br>\n",
    "3 7 2\n",
    "\n",
    "Output:<br>\n",
    "1<br>\n",
    "3<br>\n",
    "2\n",
    "\n"
   ]
  },
  {
   "cell_type": "code",
   "execution_count": 17,
   "metadata": {},
   "outputs": [
    {
     "name": "stdout",
     "output_type": "stream",
     "text": [
      "3\n",
      "1 2 1\n",
      "3 2 3\n",
      "3 7 2\n",
      "1\n",
      "3\n",
      "2\n"
     ]
    }
   ],
   "source": [
    "t = int(input())\n",
    "res =[]\n",
    "for _ in range(t):\n",
    "    a,b,n = map(int,input().split())\n",
    "    for i in range(1,n+1):\n",
    "        if(i%2!=0):\n",
    "            a *= 2\n",
    "        else:\n",
    "            b *= 2\n",
    "    c,d = a,b\n",
    "#     print(c,d)\n",
    "    res.append(max(c,d)//min(c,d))\n",
    "for i in res:\n",
    "    print(i)"
   ]
  },
  {
   "cell_type": "code",
   "execution_count": null,
   "metadata": {},
   "outputs": [],
   "source": []
  }
 ],
 "metadata": {
  "kernelspec": {
   "display_name": "Python 3",
   "language": "python",
   "name": "python3"
  },
  "language_info": {
   "codemirror_mode": {
    "name": "ipython",
    "version": 3
   },
   "file_extension": ".py",
   "mimetype": "text/x-python",
   "name": "python",
   "nbconvert_exporter": "python",
   "pygments_lexer": "ipython3",
   "version": "3.7.3"
  }
 },
 "nbformat": 4,
 "nbformat_minor": 2
}
